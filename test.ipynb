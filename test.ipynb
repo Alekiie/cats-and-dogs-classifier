{
 "cells": [
  {
   "cell_type": "code",
   "execution_count": 11,
   "metadata": {},
   "outputs": [
    {
     "name": "stderr",
     "output_type": "stream",
     "text": [
      "WARNING:absl:Compiled the loaded model, but the compiled metrics have yet to be built. `model.compile_metrics` will be empty until you train or evaluate the model.\n"
     ]
    },
    {
     "name": "stdout",
     "output_type": "stream",
     "text": [
      "\u001b[1m1/1\u001b[0m \u001b[32m━━━━━━━━━━━━━━━━━━━━\u001b[0m\u001b[37m\u001b[0m \u001b[1m0s\u001b[0m 290ms/step\n",
      "It's a cat!\n"
     ]
    }
   ],
   "source": [
    "import tensorflow as tf\n",
    "from tensorflow.keras.models import load_model\n",
    "from tensorflow.keras.preprocessing import image\n",
    "import numpy as np\n",
    "from tensorflow.keras.applications.mobilenet_v2 import preprocess_input\n",
    "\n",
    "# Load the saved model\n",
    "model = load_model('cats_vs_dogs_model.h5')\n",
    "\n",
    "# Function to predict image class\n",
    "def predict_image(uploaded_image_path):\n",
    "    # Load the image with the correct target size (256x256)\n",
    "    img = image.load_img(uploaded_image_path, target_size=(256, 256))\n",
    "    \n",
    "    # Convert the image to a NumPy array\n",
    "    img_array = image.img_to_array(img)\n",
    "    \n",
    "    # Expand the dimensions to add a batch dimension\n",
    "    img_array = np.expand_dims(img_array, axis=0)\n",
    "    \n",
    "    # Preprocess the image\n",
    "    img_array = preprocess_input(img_array)\n",
    "    \n",
    "    # Make the prediction\n",
    "    prediction = model.predict(img_array)\n",
    "    \n",
    "    # Interpret the prediction (assuming binary classification)\n",
    "    if prediction[0] > 0.5:\n",
    "        print(\"It's a dog!\")\n",
    "    else:\n",
    "        print(\"It's a cat!\")\n",
    "\n",
    "# Example usage\n",
    "predict_image('cats-vs-dogs/test/dogs/dog.5.jpg')  # Replace with the path to your image\n"
   ]
  }
 ],
 "metadata": {
  "kernelspec": {
   "display_name": "Python 3",
   "language": "python",
   "name": "python3"
  },
  "language_info": {
   "codemirror_mode": {
    "name": "ipython",
    "version": 3
   },
   "file_extension": ".py",
   "mimetype": "text/x-python",
   "name": "python",
   "nbconvert_exporter": "python",
   "pygments_lexer": "ipython3",
   "version": "3.11.9"
  }
 },
 "nbformat": 4,
 "nbformat_minor": 2
}
