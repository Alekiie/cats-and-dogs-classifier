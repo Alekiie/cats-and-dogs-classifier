{
 "cells": [
  {
   "cell_type": "code",
   "execution_count": 1,
   "metadata": {},
   "outputs": [
    {
     "ename": "ModuleNotFoundError",
     "evalue": "No module named 'streamlit'",
     "output_type": "error",
     "traceback": [
      "\u001b[0;31m---------------------------------------------------------------------------\u001b[0m",
      "\u001b[0;31mModuleNotFoundError\u001b[0m                       Traceback (most recent call last)",
      "Cell \u001b[0;32mIn [1], line 1\u001b[0m\n\u001b[0;32m----> 1\u001b[0m \u001b[38;5;28;01mimport\u001b[39;00m \u001b[38;5;21;01mstreamlit\u001b[39;00m \u001b[38;5;28;01mas\u001b[39;00m \u001b[38;5;21;01mst\u001b[39;00m\n\u001b[1;32m      2\u001b[0m \u001b[38;5;28;01mimport\u001b[39;00m \u001b[38;5;21;01mtensorflow\u001b[39;00m \u001b[38;5;28;01mas\u001b[39;00m \u001b[38;5;21;01mtf\u001b[39;00m\n\u001b[1;32m      3\u001b[0m \u001b[38;5;28;01mfrom\u001b[39;00m \u001b[38;5;21;01mtensorflow\u001b[39;00m\u001b[38;5;21;01m.\u001b[39;00m\u001b[38;5;21;01mkeras\u001b[39;00m\u001b[38;5;21;01m.\u001b[39;00m\u001b[38;5;21;01mmodels\u001b[39;00m \u001b[38;5;28;01mimport\u001b[39;00m load_model\n",
      "\u001b[0;31mModuleNotFoundError\u001b[0m: No module named 'streamlit'"
     ]
    }
   ],
   "source": [
    "import streamlit as st\n",
    "import tensorflow as tf\n",
    "from tensorflow.keras.models import load_model\n",
    "from tensorflow.keras.preprocessing import image\n",
    "import numpy as np\n",
    "from PIL import Image\n",
    "from tensorflow.keras.applications.mobilenet_v2 import preprocess_input\n",
    "\n",
    "# Set the image dimensions\n",
    "IMAGE_DIM = (256, 256)\n",
    "\n",
    "# Set up the Streamlit page\n",
    "st.set_page_config(page_title=\"🏡 Cat-Dog Classifier\", layout=\"centered\")\n",
    "st.title(\"Welcome to Cat-Dog Classifier\")\n",
    "\n",
    "st.markdown(\"---\")\n",
    "st.subheader(\"Upload an image of a cat or dog and see the prediction!\")\n",
    "\n",
    "# Upload the image\n",
    "uploaded_file = st.file_uploader(label=\"\", type=[\"jpg\", \"png\"])\n",
    "st.markdown(\"---\")\n",
    "\n",
    "# Load your pre-trained model\n",
    "model = load_model('cats_vs_dogs_model.h5', compile=False)\n",
    "model.compile(optimizer='adam', loss=tf.keras.losses.BinaryCrossentropy(), metrics=['accuracy'])\n",
    "\n",
    "# Function to preprocess and predict the class of the image\n",
    "def predict_image(img):\n",
    "    # Convert the PIL image to an array and resize it\n",
    "    img = img.resize(IMAGE_DIM)\n",
    "    img_array = image.img_to_array(img)\n",
    "    \n",
    "    # Expand dimensions to add batch size\n",
    "    img_array = np.expand_dims(img_array, axis=0)\n",
    "    \n",
    "    # Preprocess the image for MobileNetV2\n",
    "    img_array = preprocess_input(img_array)\n",
    "    \n",
    "    # Make prediction\n",
    "    prediction = model.predict(img_array)\n",
    "    \n",
    "    # Return the class prediction\n",
    "    if prediction[0] > 0.5:\n",
    "        return \"Dog\"\n",
    "    else:\n",
    "        return \"Cat\"\n",
    "\n",
    "# If an image is uploaded\n",
    "if uploaded_file is not None:\n",
    "    # Open the image\n",
    "    img = Image.open(uploaded_file)\n",
    "    \n",
    "    # Make a prediction\n",
    "    pred = predict_image(img)\n",
    "    \n",
    "    # Display the prediction\n",
    "    st.subheader(f\"Predicted: {pred}!\")\n",
    "    \n",
    "    # Show the uploaded image\n",
    "    st.image(img, use_column_width=True)\n"
   ]
  }
 ],
 "metadata": {
  "kernelspec": {
   "display_name": "Python 3",
   "language": "python",
   "name": "python3"
  },
  "language_info": {
   "codemirror_mode": {
    "name": "ipython",
    "version": 3
   },
   "file_extension": ".py",
   "mimetype": "text/x-python",
   "name": "python",
   "nbconvert_exporter": "python",
   "pygments_lexer": "ipython3",
   "version": "3.11.9"
  }
 },
 "nbformat": 4,
 "nbformat_minor": 2
}
